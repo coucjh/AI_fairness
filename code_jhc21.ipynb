{
  "nbformat": 4,
  "nbformat_minor": 0,
  "metadata": {
    "colab": {
      "name": "fairness_cw_jc.ipynb",
      "provenance": [],
      "collapsed_sections": []
    },
    "kernelspec": {
      "name": "python3",
      "display_name": "Python 3"
    }
  },
  "cells": [
    {
      "cell_type": "markdown",
      "metadata": {
        "id": "fiNaI-VawFG4"
      },
      "source": [
        "## Fairness Coursework."
      ]
    },
    {
      "cell_type": "markdown",
      "metadata": {
        "id": "uzFppAdYxVpu"
      },
      "source": [
        "Install the library and download the dataset."
      ]
    },
    {
      "cell_type": "code",
      "metadata": {
        "colab": {
          "base_uri": "https://localhost:8080/"
        },
        "id": "rZ2kq6rNqGro",
        "outputId": "3963df0c-5797-4e9f-9f0d-ee5ef54b34ca"
      },
      "source": [
        "!pip install 'aif360[LFR]'"
      ],
      "execution_count": 1,
      "outputs": [
        {
          "output_type": "stream",
          "name": "stdout",
          "text": [
            "Requirement already satisfied: aif360[LFR] in /usr/local/lib/python3.7/dist-packages (0.4.0)\n",
            "\u001b[33mWARNING: aif360 0.4.0 does not provide the extra 'lfr'\u001b[0m\n",
            "Requirement already satisfied: pandas>=0.24.0 in /usr/local/lib/python3.7/dist-packages (from aif360[LFR]) (1.3.5)\n",
            "Requirement already satisfied: scipy<1.6.0,>=1.2.0 in /usr/local/lib/python3.7/dist-packages (from aif360[LFR]) (1.4.1)\n",
            "Requirement already satisfied: tempeh in /usr/local/lib/python3.7/dist-packages (from aif360[LFR]) (0.1.12)\n",
            "Requirement already satisfied: numpy>=1.16 in /usr/local/lib/python3.7/dist-packages (from aif360[LFR]) (1.19.5)\n",
            "Requirement already satisfied: scikit-learn>=0.22.1 in /usr/local/lib/python3.7/dist-packages (from aif360[LFR]) (1.0.2)\n",
            "Requirement already satisfied: matplotlib in /usr/local/lib/python3.7/dist-packages (from aif360[LFR]) (3.2.2)\n",
            "Requirement already satisfied: pytz>=2017.3 in /usr/local/lib/python3.7/dist-packages (from pandas>=0.24.0->aif360[LFR]) (2018.9)\n",
            "Requirement already satisfied: python-dateutil>=2.7.3 in /usr/local/lib/python3.7/dist-packages (from pandas>=0.24.0->aif360[LFR]) (2.8.2)\n",
            "Requirement already satisfied: six>=1.5 in /usr/local/lib/python3.7/dist-packages (from python-dateutil>=2.7.3->pandas>=0.24.0->aif360[LFR]) (1.15.0)\n",
            "Requirement already satisfied: threadpoolctl>=2.0.0 in /usr/local/lib/python3.7/dist-packages (from scikit-learn>=0.22.1->aif360[LFR]) (3.1.0)\n",
            "Requirement already satisfied: joblib>=0.11 in /usr/local/lib/python3.7/dist-packages (from scikit-learn>=0.22.1->aif360[LFR]) (1.1.0)\n",
            "Requirement already satisfied: cycler>=0.10 in /usr/local/lib/python3.7/dist-packages (from matplotlib->aif360[LFR]) (0.11.0)\n",
            "Requirement already satisfied: pyparsing!=2.0.4,!=2.1.2,!=2.1.6,>=2.0.1 in /usr/local/lib/python3.7/dist-packages (from matplotlib->aif360[LFR]) (3.0.7)\n",
            "Requirement already satisfied: kiwisolver>=1.0.1 in /usr/local/lib/python3.7/dist-packages (from matplotlib->aif360[LFR]) (1.3.2)\n",
            "Requirement already satisfied: memory-profiler in /usr/local/lib/python3.7/dist-packages (from tempeh->aif360[LFR]) (0.60.0)\n",
            "Requirement already satisfied: pytest in /usr/local/lib/python3.7/dist-packages (from tempeh->aif360[LFR]) (3.6.4)\n",
            "Requirement already satisfied: shap in /usr/local/lib/python3.7/dist-packages (from tempeh->aif360[LFR]) (0.40.0)\n",
            "Requirement already satisfied: requests in /usr/local/lib/python3.7/dist-packages (from tempeh->aif360[LFR]) (2.23.0)\n",
            "Requirement already satisfied: psutil in /usr/local/lib/python3.7/dist-packages (from memory-profiler->tempeh->aif360[LFR]) (5.4.8)\n",
            "Requirement already satisfied: pluggy<0.8,>=0.5 in /usr/local/lib/python3.7/dist-packages (from pytest->tempeh->aif360[LFR]) (0.7.1)\n",
            "Requirement already satisfied: atomicwrites>=1.0 in /usr/local/lib/python3.7/dist-packages (from pytest->tempeh->aif360[LFR]) (1.4.0)\n",
            "Requirement already satisfied: py>=1.5.0 in /usr/local/lib/python3.7/dist-packages (from pytest->tempeh->aif360[LFR]) (1.11.0)\n",
            "Requirement already satisfied: attrs>=17.4.0 in /usr/local/lib/python3.7/dist-packages (from pytest->tempeh->aif360[LFR]) (21.4.0)\n",
            "Requirement already satisfied: setuptools in /usr/local/lib/python3.7/dist-packages (from pytest->tempeh->aif360[LFR]) (57.4.0)\n",
            "Requirement already satisfied: more-itertools>=4.0.0 in /usr/local/lib/python3.7/dist-packages (from pytest->tempeh->aif360[LFR]) (8.12.0)\n",
            "Requirement already satisfied: urllib3!=1.25.0,!=1.25.1,<1.26,>=1.21.1 in /usr/local/lib/python3.7/dist-packages (from requests->tempeh->aif360[LFR]) (1.24.3)\n",
            "Requirement already satisfied: certifi>=2017.4.17 in /usr/local/lib/python3.7/dist-packages (from requests->tempeh->aif360[LFR]) (2021.10.8)\n",
            "Requirement already satisfied: idna<3,>=2.5 in /usr/local/lib/python3.7/dist-packages (from requests->tempeh->aif360[LFR]) (2.10)\n",
            "Requirement already satisfied: chardet<4,>=3.0.2 in /usr/local/lib/python3.7/dist-packages (from requests->tempeh->aif360[LFR]) (3.0.4)\n",
            "Requirement already satisfied: numba in /usr/local/lib/python3.7/dist-packages (from shap->tempeh->aif360[LFR]) (0.51.2)\n",
            "Requirement already satisfied: slicer==0.0.7 in /usr/local/lib/python3.7/dist-packages (from shap->tempeh->aif360[LFR]) (0.0.7)\n",
            "Requirement already satisfied: packaging>20.9 in /usr/local/lib/python3.7/dist-packages (from shap->tempeh->aif360[LFR]) (21.3)\n",
            "Requirement already satisfied: cloudpickle in /usr/local/lib/python3.7/dist-packages (from shap->tempeh->aif360[LFR]) (1.3.0)\n",
            "Requirement already satisfied: tqdm>4.25.0 in /usr/local/lib/python3.7/dist-packages (from shap->tempeh->aif360[LFR]) (4.62.3)\n",
            "Requirement already satisfied: llvmlite<0.35,>=0.34.0.dev0 in /usr/local/lib/python3.7/dist-packages (from numba->shap->tempeh->aif360[LFR]) (0.34.0)\n"
          ]
        }
      ]
    },
    {
      "cell_type": "code",
      "metadata": {
        "colab": {
          "base_uri": "https://localhost:8080/"
        },
        "id": "DS0AD740qd5T",
        "outputId": "25fc385f-0d34-491a-c023-fbe50d77e1e4"
      },
      "source": [
        "cd /usr/local/lib/python3.7/dist-packages/aif360/data/raw/adult"
      ],
      "execution_count": 2,
      "outputs": [
        {
          "output_type": "stream",
          "name": "stdout",
          "text": [
            "/usr/local/lib/python3.7/dist-packages/aif360/data/raw/adult\n"
          ]
        }
      ]
    },
    {
      "cell_type": "code",
      "metadata": {
        "id": "B9dbNroSqfSe",
        "colab": {
          "base_uri": "https://localhost:8080/"
        },
        "outputId": "c856158f-5ca1-4769-b999-9d850e3566b1"
      },
      "source": [
        "!wget https://archive.ics.uci.edu/ml/machine-learning-databases/adult/adult.data\n",
        "!wget https://archive.ics.uci.edu/ml/machine-learning-databases/adult/adult.names\n",
        "!wget https://archive.ics.uci.edu/ml/machine-learning-databases/adult/adult.test\n",
        "\n",
        "!wget https://archive.ics.uci.edu/ml/machine-learning-databases/statlog/german/german.data"
      ],
      "execution_count": 3,
      "outputs": [
        {
          "output_type": "stream",
          "name": "stdout",
          "text": [
            "--2022-02-15 17:22:32--  https://archive.ics.uci.edu/ml/machine-learning-databases/adult/adult.data\n",
            "Resolving archive.ics.uci.edu (archive.ics.uci.edu)... 128.195.10.252\n",
            "Connecting to archive.ics.uci.edu (archive.ics.uci.edu)|128.195.10.252|:443... connected.\n",
            "HTTP request sent, awaiting response... 200 OK\n",
            "Length: 3974305 (3.8M) [application/x-httpd-php]\n",
            "Saving to: ‘adult.data.2’\n",
            "\n",
            "adult.data.2        100%[===================>]   3.79M  6.83MB/s    in 0.6s    \n",
            "\n",
            "2022-02-15 17:22:33 (6.83 MB/s) - ‘adult.data.2’ saved [3974305/3974305]\n",
            "\n",
            "--2022-02-15 17:22:33--  https://archive.ics.uci.edu/ml/machine-learning-databases/adult/adult.names\n",
            "Resolving archive.ics.uci.edu (archive.ics.uci.edu)... 128.195.10.252\n",
            "Connecting to archive.ics.uci.edu (archive.ics.uci.edu)|128.195.10.252|:443... connected.\n",
            "HTTP request sent, awaiting response... 200 OK\n",
            "Length: 5229 (5.1K) [application/x-httpd-php]\n",
            "Saving to: ‘adult.names.2’\n",
            "\n",
            "adult.names.2       100%[===================>]   5.11K  --.-KB/s    in 0s      \n",
            "\n",
            "2022-02-15 17:22:34 (133 MB/s) - ‘adult.names.2’ saved [5229/5229]\n",
            "\n",
            "--2022-02-15 17:22:34--  https://archive.ics.uci.edu/ml/machine-learning-databases/adult/adult.test\n",
            "Resolving archive.ics.uci.edu (archive.ics.uci.edu)... 128.195.10.252\n",
            "Connecting to archive.ics.uci.edu (archive.ics.uci.edu)|128.195.10.252|:443... connected.\n",
            "HTTP request sent, awaiting response... 200 OK\n",
            "Length: 2003153 (1.9M) [application/x-httpd-php]\n",
            "Saving to: ‘adult.test.2’\n",
            "\n",
            "adult.test.2        100%[===================>]   1.91M  3.96MB/s    in 0.5s    \n",
            "\n",
            "2022-02-15 17:22:34 (3.96 MB/s) - ‘adult.test.2’ saved [2003153/2003153]\n",
            "\n",
            "--2022-02-15 17:22:35--  https://archive.ics.uci.edu/ml/machine-learning-databases/statlog/german/german.data\n",
            "Resolving archive.ics.uci.edu (archive.ics.uci.edu)... 128.195.10.252\n",
            "Connecting to archive.ics.uci.edu (archive.ics.uci.edu)|128.195.10.252|:443... connected.\n",
            "HTTP request sent, awaiting response... 200 OK\n",
            "Length: 79793 (78K) [application/x-httpd-php]\n",
            "Saving to: ‘german.data.2’\n",
            "\n",
            "german.data.2       100%[===================>]  77.92K  --.-KB/s    in 0.1s    \n",
            "\n",
            "2022-02-15 17:22:35 (572 KB/s) - ‘german.data.2’ saved [79793/79793]\n",
            "\n"
          ]
        }
      ]
    },
    {
      "cell_type": "code",
      "source": [
        "!pip install fairlearn"
      ],
      "metadata": {
        "id": "Grj3ofPc4DOg",
        "outputId": "62c9fe51-2126-4b70-c030-671c0c22ccd4",
        "colab": {
          "base_uri": "https://localhost:8080/"
        }
      },
      "execution_count": 4,
      "outputs": [
        {
          "output_type": "stream",
          "name": "stdout",
          "text": [
            "Requirement already satisfied: fairlearn in /usr/local/lib/python3.7/dist-packages (0.7.0)\n",
            "Requirement already satisfied: scipy>=1.4.1 in /usr/local/lib/python3.7/dist-packages (from fairlearn) (1.4.1)\n",
            "Requirement already satisfied: pandas>=0.25.1 in /usr/local/lib/python3.7/dist-packages (from fairlearn) (1.3.5)\n",
            "Requirement already satisfied: scikit-learn>=0.22.1 in /usr/local/lib/python3.7/dist-packages (from fairlearn) (1.0.2)\n",
            "Requirement already satisfied: numpy>=1.17.2 in /usr/local/lib/python3.7/dist-packages (from fairlearn) (1.19.5)\n",
            "Requirement already satisfied: pytz>=2017.3 in /usr/local/lib/python3.7/dist-packages (from pandas>=0.25.1->fairlearn) (2018.9)\n",
            "Requirement already satisfied: python-dateutil>=2.7.3 in /usr/local/lib/python3.7/dist-packages (from pandas>=0.25.1->fairlearn) (2.8.2)\n",
            "Requirement already satisfied: six>=1.5 in /usr/local/lib/python3.7/dist-packages (from python-dateutil>=2.7.3->pandas>=0.25.1->fairlearn) (1.15.0)\n",
            "Requirement already satisfied: joblib>=0.11 in /usr/local/lib/python3.7/dist-packages (from scikit-learn>=0.22.1->fairlearn) (1.1.0)\n",
            "Requirement already satisfied: threadpoolctl>=2.0.0 in /usr/local/lib/python3.7/dist-packages (from scikit-learn>=0.22.1->fairlearn) (3.1.0)\n"
          ]
        }
      ]
    },
    {
      "cell_type": "markdown",
      "source": [
        "## Import Libraries"
      ],
      "metadata": {
        "id": "3RocUyhjavPd"
      }
    },
    {
      "cell_type": "code",
      "metadata": {
        "id": "zPJDsQtqxaLn"
      },
      "source": [
        "#STEP 1: Import the libraries and set the random seed.\n",
        "\n",
        "import numpy as np\n",
        "\n",
        "\n",
        "from aif360.datasets import AdultDataset\n",
        "from aif360.algorithms.preprocessing.optim_preproc_helpers.data_preproc_functions import load_preproc_data_adult\n",
        "from aif360.algorithms.preprocessing.optim_preproc_helpers.data_preproc_functions import load_preproc_data_german\n",
        "\n",
        "from aif360.metrics import ClassificationMetric\n",
        "from aif360.algorithms.preprocessing.reweighing import Reweighing\n",
        "\n",
        "import pdb\n",
        "\n",
        "from sklearn.preprocessing import StandardScaler, MinMaxScaler\n",
        "from sklearn.linear_model import LogisticRegression\n",
        "\n",
        "from sklearn.model_selection import *\n",
        "\n",
        "from sklearn.model_selection import KFold\n",
        "from sklearn.model_selection import cross_val_score\n",
        "from sklearn.model_selection import LeaveOneOut\n",
        "\n",
        "import matplotlib.pyplot as plt\n",
        "import seaborn as sns\n",
        "from sklearn import metrics\n",
        "\n",
        "import random\n",
        "\n",
        "np.random.seed(0)"
      ],
      "execution_count": 5,
      "outputs": []
    },
    {
      "cell_type": "markdown",
      "source": [
        "## Preprocess Data"
      ],
      "metadata": {
        "id": "sYDMfc4_a1Wi"
      }
    },
    {
      "cell_type": "code",
      "metadata": {
        "colab": {
          "base_uri": "https://localhost:8080/"
        },
        "id": "rDkHVXGlxhs1",
        "outputId": "96c72402-84df-4fe3-82a1-60b17c52942a"
      },
      "source": [
        "#STEP 2: We define where's the bias in the features of our dataset.\n",
        "use_adult_dataset = True\n",
        "privileged_groups = [{'sex': 1}] # Male\n",
        "unprivileged_groups = [{'sex': 0}] # Female\n",
        "if use_adult_dataset:\n",
        "    dataset_orig = load_preproc_data_adult(['sex'])\n",
        "else:\n",
        "    dataset_orig = load_preproc_data_german(['sex'])\n",
        "\n",
        "#STEP 3: We split between training and test set.\n",
        "train, test = dataset_orig.split([0.7], shuffle=True)\n",
        "print(train.feature_names)\n",
        "\n",
        "# print(\"training data size\", train.features.shape)\n",
        "print(\"dataset feature names\", train.feature_names)\n",
        "\n",
        "#Normalize the dataset, both train and test. This should always be done in any machine learning pipeline!\n",
        "scale_orig = StandardScaler()\n",
        "\n",
        "X_train = scale_orig.fit_transform(train.features)\n",
        "y_train = train.labels.ravel()\n",
        "\n",
        "X_test = scale_orig.transform(test.features)\n",
        "y_test = test.labels.ravel()\n",
        "\n",
        "print(X_train.shape)\n",
        "print(y_train.shape)"
      ],
      "execution_count": 6,
      "outputs": [
        {
          "output_type": "stream",
          "name": "stdout",
          "text": [
            "['race', 'sex', 'Age (decade)=10', 'Age (decade)=20', 'Age (decade)=30', 'Age (decade)=40', 'Age (decade)=50', 'Age (decade)=60', 'Age (decade)=>=70', 'Education Years=6', 'Education Years=7', 'Education Years=8', 'Education Years=9', 'Education Years=10', 'Education Years=11', 'Education Years=12', 'Education Years=<6', 'Education Years=>12']\n",
            "dataset feature names ['race', 'sex', 'Age (decade)=10', 'Age (decade)=20', 'Age (decade)=30', 'Age (decade)=40', 'Age (decade)=50', 'Age (decade)=60', 'Age (decade)=>=70', 'Education Years=6', 'Education Years=7', 'Education Years=8', 'Education Years=9', 'Education Years=10', 'Education Years=11', 'Education Years=12', 'Education Years=<6', 'Education Years=>12']\n",
            "(34189, 18)\n",
            "(34189,)\n"
          ]
        }
      ]
    },
    {
      "cell_type": "markdown",
      "source": [
        "## Functions"
      ],
      "metadata": {
        "id": "MGwrpDYlbFIY"
      }
    },
    {
      "cell_type": "code",
      "metadata": {
        "id": "2tL0BFwnzTsu"
      },
      "source": [
        "\n",
        "def get_fairness_metrics(metric):\n",
        "    metric_arrs = {}\n",
        "    metric_arrs['stat_par_diff']=(metric.statistical_parity_difference())\n",
        "    metric_arrs['eq_opp_diff']=(metric.equal_opportunity_difference())\n",
        "    metric_arrs['avg_odds_diff']=(metric.average_odds_difference())\n",
        "    metric_arrs['bal_acc']=((metric.true_positive_rate() + metric.true_negative_rate()) / 2)\n",
        "    metric_arrs['disp_imp']=(metric.disparate_impact())\n",
        "    return metric_arrs\n",
        "\n",
        "\n",
        "def k_folds_on_train(train, X_train, y_train, folds=5, weights=None, C=1.0, print_k=True):\n",
        "    random_number = random.randint(1, 10)   \n",
        "    kf = KFold(n_splits=folds, random_state=10, shuffle=True)\n",
        "    accuracies = []\n",
        "    fairnesses = []\n",
        "\n",
        "    k = 1\n",
        "    for train_index, val_index in kf.split(X_train):\n",
        "        if print_k:\n",
        "            print(\"k:\", k)\n",
        "        val = train.subset(val_index)\n",
        "        train_k = train.subset(train_index)\n",
        "\n",
        "        X_train_k, X_val = X_train[train_index], X_train[val_index]\n",
        "        y_train_k, y_val = y_train[train_index], y_train[val_index]\n",
        "\n",
        "        # random_number = random.randint(1, 10)\n",
        "        model = LogisticRegression(solver='liblinear', penalty=\"l2\", random_state=1, C=C)  #(C=reg_best, solver='liblinear', random_state=1) \n",
        "\n",
        "        if weights is not None:\n",
        "            # print(\"subgroup weights\", np.unique(train.instance_weights))\n",
        "            training_weights = weights[train_index]\n",
        "            model.fit(X_train_k, y_train_k, sample_weight=training_weights)\n",
        "        else:\n",
        "            model.fit(X_train_k, y_train_k)\n",
        "\n",
        "        accuracy, eq_op_diff = evaluate(model, val, X_val, y_val)\n",
        "        accuracies.append(accuracy)\n",
        "        fairnesses.append(eq_op_diff)\n",
        "\n",
        "        if print_k:\n",
        "            print(\"Accuracy\", accuracy) \n",
        "            print(\"Equality of Opportunity\", eq_op_diff) \n",
        "\n",
        "        k += 1\n",
        "\n",
        "    accuracy_mean = np.mean(accuracies)\n",
        "    fairness_mean = np.mean(fairnesses)\n",
        "\n",
        "    accuracy_std = np.std(accuracies)\n",
        "    fairness_std = np.std(fairnesses)\n",
        "\n",
        "    return accuracy_mean, fairness_mean, accuracy_std, fairness_std\n",
        "\n",
        "\n",
        "def evaluate(model, test_dataset, X_test, y_test):\n",
        "    predictions = model.predict(X_test)\n",
        "\n",
        "    if not use_adult_dataset:\n",
        "        predictions = abs(predictions-2) \n",
        "        y_test = abs(y_test-2)\n",
        "        \n",
        "    test_pred = test_dataset.copy()\n",
        "    test_pred.labels = predictions\n",
        "\n",
        "    accuracy = sum(predictions==y_test)/len(y_test)\n",
        "\n",
        "    metric = ClassificationMetric(test_dataset, test_pred, unprivileged_groups=[{'sex': 0}], privileged_groups=[{'sex': 1}])\n",
        "    metric_arrs = get_fairness_metrics(metric)\n",
        "    eq_op_diff = -(np.abs(metric_arrs['eq_opp_diff']))\n",
        "\n",
        "    return accuracy, eq_op_diff \n",
        "\n",
        "\n",
        "def plot(C_array, acc_array, fair_array):\n",
        "    y1 = np.array(acc_array)[:, 0]\n",
        "    std1 = np.array(acc_array)[:, 1]\n",
        "\n",
        "    y2 = np.array(fair_array)[:, 0]\n",
        "    std2 = np.array(fair_array)[:, 1]\n",
        "\n",
        "    fig,ax = plt.subplots()\n",
        "    ax.set_xscale('log')\n",
        "    ax.plot(C_array, y1, color=\"red\", marker=\"\")\n",
        "    ax.fill_between(C_array, y1 - std1, y1 + std1, alpha=0.2, color=\"red\")\n",
        "    ax.set_xlabel(\"C\",fontsize=14)\n",
        "    ax.set_ylabel(\"Accuracy\",color=\"red\",fontsize=14)\n",
        "\n",
        "    ax2=ax.twinx()\n",
        "    ax2.plot(C_array, y2, color=\"blue\", marker=\"\")\n",
        "    ax2.fill_between(C_array, y2 - std2, y2 + std2, alpha=0.2, color=\"blue\")\n",
        "    ax2.set_ylabel(\"Equality of Opportunity\",color=\"blue\",fontsize=14)\n"
      ],
      "execution_count": 7,
      "outputs": []
    },
    {
      "cell_type": "code",
      "source": [
        "def hyperparameter_tuning(C_array, \n",
        "                          train, \n",
        "                          X_train, \n",
        "                          y_train, \n",
        "                          folds, \n",
        "                          weights, \n",
        "                          test, \n",
        "                          X_test, \n",
        "                          y_test, \n",
        "                          print_C=False):\n",
        "    \n",
        "    acc_array = []\n",
        "    fair_array = []\n",
        "    crit_array = []\n",
        "    best_accuracy_model = None\n",
        "    best_fair_model = None\n",
        "    best_crit_model = None\n",
        "    \n",
        "    for C_reg in C_array:\n",
        "        \n",
        "        accuracy_cv, fairness_cv, \\\n",
        "        accuracy_std, fairness_std = k_folds_on_train(train, \n",
        "                                                      X_train, \n",
        "                                                      y_train, \n",
        "                                                      folds=5, \n",
        "                                                      weights=weights, \n",
        "                                                      C=C_reg, \n",
        "                                                      print_k=False\n",
        "                                                      )\n",
        "        \n",
        "        model = LogisticRegression(solver='liblinear', penalty=\"l2\", random_state=10, C=C_reg)\n",
        "\n",
        "        if weights is not None:\n",
        "            # print(\"subgroup weights\", np.unique(train.instance_weights))\n",
        "            training_weights = weights\n",
        "            model.fit(X_train, y_train, sample_weight=training_weights)\n",
        "        else:\n",
        "            model.fit(X_train, y_train)\n",
        "\n",
        "\n",
        "        accuracy, eq_op_diff = evaluate(model, test, X_test, y_test)\n",
        "\n",
        "        acc_array.append([accuracy_cv, accuracy_std])\n",
        "        fair_array.append([fairness_cv, fairness_std])\n",
        "        \n",
        "        beta = 1 # fairness considered beta times as important as accuracy\n",
        "        criterion = (1 + beta**2) * (accuracy * (1 - abs(eq_op_diff))) / ((beta**2 * accuracy) + (1 - abs(eq_op_diff)))\n",
        "        crit_array.append(criterion)\n",
        "\n",
        "        if print_C:\n",
        "            print(\"\\nC value = \", C_reg)\n",
        "            print(\"Test Accuracy\", accuracy) \n",
        "            print(\"Test Equality of Opportunity\", eq_op_diff) \n",
        "            print(\"Train Accuracy\", accuracy_cv) \n",
        "            print(\"Train Equality of Opportunity\", fairness_cv) \n",
        "            print(\"Criterion\", criterion) \n",
        "\n",
        "        model_features = (model, criterion, accuracy, eq_op_diff, C_reg)\n",
        "        \n",
        "        if best_accuracy_model == None:\n",
        "            best_accuracy_model = model_features\n",
        "            best_fair_model = model_features\n",
        "            best_crit_model = model_features\n",
        "        else:\n",
        "            if accuracy > best_accuracy_model[2]:\n",
        "                best_accuracy_model = model_features\n",
        "            if abs(eq_op_diff) < abs(best_fair_model[3]):\n",
        "                best_fair_model = model_features\n",
        "            if criterion > best_crit_model[1]:\n",
        "                best_crit_model = model_features\n",
        "\n",
        "\n",
        "    return best_accuracy_model, best_fair_model, best_crit_model, acc_array, fair_array, crit_array"
      ],
      "metadata": {
        "id": "K_GrRWjxFRG4"
      },
      "execution_count": 8,
      "outputs": []
    },
    {
      "cell_type": "markdown",
      "source": [
        "## PART 1 - UNWEIGHTED"
      ],
      "metadata": {
        "id": "sUR3xR-0bIh5"
      }
    },
    {
      "cell_type": "code",
      "source": [
        "#PART 1 - UNWEIGHTED\n",
        "C_array = np.logspace(-9,2,12)\n",
        "print(\"PART 1 - UNWEIGHTED\")\n",
        "best_accuracy_model, best_fair_model, \\\n",
        "best_crit_model, acc_array, fair_array, _ = hyperparameter_tuning(C_array, \n",
        "                                                               train, \n",
        "                                                               X_train, \n",
        "                                                               y_train, \n",
        "                                                               5, \n",
        "                                                               None, \n",
        "                                                               test,\n",
        "                                                               X_test, \n",
        "                                                               y_test)\n",
        "\n",
        "test_accuracy_BA, test_fairness_BA = evaluate(best_accuracy_model[0], test, X_test, y_test)\n",
        "test_accuracy_BF, test_fairness_BF = evaluate(best_fair_model[0], test, X_test, y_test)\n",
        "\n",
        "print(f\"\\nBEST ACCURACY MODEL (1): \\n[test accuracy: {test_accuracy_BA}] \\n\"\n",
        "f\"[test equal opportunity: {test_fairness_BA}]\\n\"\n",
        "f\"[C: {best_accuracy_model[-1]}]\")\n",
        "\n",
        "print(f\"BEST FAIRNESS MODEL (2): \\n[test accuracy: {test_accuracy_BF}] \\n\"\n",
        "f\"[test equal opportunity: {test_fairness_BF}]\\n\"\n",
        "f\"[C: {best_fair_model[-1]}]\")\n",
        "\n",
        "# print(f\" $Accuracy$ & {round(test_accuracy_BA, 3)} & {round(test_accuracy_BF, 3)}\\\\ \\n\"\n",
        "# f\" $EOD$ & {round(test_fairness_BA, 3)} & {round(test_fairness_BF, 3)}\\\\ \\n\"\n",
        "# f\" $C$ & {best_accuracy_model[-1]} & {best_fair_model[-1]}\\\\\")\n",
        "\n",
        "plot(C_array, acc_array, fair_array)"
      ],
      "metadata": {
        "colab": {
          "base_uri": "https://localhost:8080/",
          "height": 461
        },
        "id": "gogx7KjdadpP",
        "outputId": "ea07a03b-c928-41a1-f821-ddca76891721"
      },
      "execution_count": 15,
      "outputs": [
        {
          "output_type": "stream",
          "name": "stdout",
          "text": [
            "PART 1 - UNWEIGHTED\n",
            "\n",
            "BEST ACCURACY MODEL (1): \n",
            "[test accuracy: 0.8050228622125162] \n",
            "[test equal opportunity: -0.4356902356902357]\n",
            "[C: 0.001]\n",
            "BEST FAIRNESS MODEL (2): \n",
            "[test accuracy: 0.7975841124684365] \n",
            "[test equal opportunity: -0.2189742958035641]\n",
            "[C: 1e-05]\n"
          ]
        },
        {
          "output_type": "display_data",
          "data": {
            "image/png": "[encoded data removed]",
            "text/plain": [
              "<Figure size 432x288 with 2 Axes>"
            ]
          },
          "metadata": {
            "needs_background": "light"
          }
        }
      ]
    },
    {
      "cell_type": "markdown",
      "source": [
        "## PART 2 - REWEIGHED"
      ],
      "metadata": {
        "id": "J_OjnJtFbNTi"
      }
    },
    {
      "cell_type": "code",
      "source": [
        "#PART 2 - REWEIGHED\n",
        "print(\"PART 2 - REWEIGHED\")\n",
        "RW = Reweighing(unprivileged_groups=unprivileged_groups, \n",
        "                privileged_groups=privileged_groups)\n",
        "train = RW.fit_transform(train)\n",
        "weights=train.instance_weights\n",
        "\n",
        "best_accuracy_model, best_fair_model, \\\n",
        "best_crit_model, acc_array, fair_array, _ = hyperparameter_tuning(C_array, \n",
        "                                                                    train, \n",
        "                                                                    X_train, \n",
        "                                                                    y_train, \n",
        "                                                                    5, \n",
        "                                                                    weights, \n",
        "                                                                    test,\n",
        "                                                                    X_test, \n",
        "                                                                    y_test,\n",
        "                                                                    print_C=False)\n",
        "\n",
        "test_accuracy_BA, test_fairness_BA = evaluate(best_accuracy_model[0], test, X_test, y_test)\n",
        "test_accuracy_BF, test_fairness_BF = evaluate(best_fair_model[0], test, X_test, y_test)\n",
        "\n",
        "print(f\"\\nBEST ACCURACY MODEL (1): \\n[test accuracy: {test_accuracy_BA}] \\n\"\n",
        "f\"[test equal opportunity: {test_fairness_BA}] \\n\"\n",
        "f\"[C: {best_accuracy_model[-1]}]\")\n",
        "\n",
        "print(f\"BEST FAIRNESS MODEL (2): \\n[test accuracy: {test_accuracy_BF}] \\n\"\n",
        "f\"[test equal opportunity: {test_fairness_BF}] \\n\"\n",
        "f\"[C: {best_fair_model[-1]}]\")\n",
        "\n",
        "# print(f\" $Accuracy$ & {round(test_accuracy_BA, 3)} & {round(test_accuracy_BF, 3)}\\\\ \\n\"\n",
        "# f\" $EOD$ & {round(test_fairness_BA, 3)} & {round(test_fairness_BF, 3)}\\\\ \\n\"\n",
        "# f\" $C$ & {best_accuracy_model[-1]} & {best_fair_model[-1]}\\\\\")\n",
        "\n",
        "plot(C_array, acc_array, fair_array)\n",
        "\n"
      ],
      "metadata": {
        "colab": {
          "base_uri": "https://localhost:8080/",
          "height": 461
        },
        "id": "tcfgXuXoaj_G",
        "outputId": "7d4ce307-e0a0-4a89-ca21-8bfec2d1ebdb"
      },
      "execution_count": 16,
      "outputs": [
        {
          "output_type": "stream",
          "name": "stdout",
          "text": [
            "PART 2 - REWEIGHED\n",
            "\n",
            "BEST ACCURACY MODEL (1): \n",
            "[test accuracy: 0.7905548351873336] \n",
            "[test equal opportunity: -0.03513180586351322] \n",
            "[C: 0.0001]\n",
            "BEST FAIRNESS MODEL (2): \n",
            "[test accuracy: 0.7876202825359995] \n",
            "[test equal opportunity: -0.03327174180832715] \n",
            "[C: 1e-09]\n"
          ]
        },
        {
          "output_type": "display_data",
          "data": {
            "image/png": "[encoded data removed]",
            "text/plain": [
              "<Figure size 432x288 with 2 Axes>"
            ]
          },
          "metadata": {
            "needs_background": "light"
          }
        }
      ]
    },
    {
      "cell_type": "markdown",
      "source": [
        "## PART 3 - CHOOSE BASED ON CRITERION"
      ],
      "metadata": {
        "id": "9-ZdERstbYKo"
      }
    },
    {
      "cell_type": "code",
      "source": [
        "# UNWEIGHED\n",
        "print(\"UNWEIGHED - CRITERION EVALUATION\")\n",
        "best_accuracy_model, best_fair_model, \\\n",
        "best_crit_model, acc_array, fair_array, crit_array = hyperparameter_tuning(C_array, \n",
        "                                                                        train, \n",
        "                                                                        X_train, \n",
        "                                                                        y_train, \n",
        "                                                                        5, \n",
        "                                                                        None, \n",
        "                                                                        test,\n",
        "                                                                        X_test, \n",
        "                                                                        y_test,\n",
        "                                                                        print_C=False)\n",
        "\n",
        "test_accuracy_BC, test_fairness_BC = evaluate(best_crit_model[0], test, X_test, y_test)\n",
        "\n",
        "print(f\"BEST CRITERION MODEL (5): \\n[test accuracy: {test_accuracy_BC}] \\n\"\n",
        "f\"[test equal opportunity: {test_fairness_BC}]\")\n",
        "print(f\"[criterion: {best_crit_model[1]}]\\n\"\n",
        "f\"[C: {best_crit_model[-1]}]\\n\"\n",
        "f\"[F: {best_crit_model[1]}]\")\n",
        "\n",
        "print(\"\\nREWEIGHED - HYPERPARAMETER VARIATION\")\n",
        "# REWEIGHED\n",
        "best_accuracy_model, best_fair_model, \\\n",
        "best_crit_model_RW, acc_array, fair_array, crit_array = hyperparameter_tuning(C_array, \n",
        "                                                               train, \n",
        "                                                               X_train, \n",
        "                                                               y_train, \n",
        "                                                               5, \n",
        "                                                               weights, \n",
        "                                                               test,\n",
        "                                                               X_test, \n",
        "                                                               y_test,\n",
        "                                                               print_C=False)\n",
        "\n",
        "test_accuracy_BC_RW, test_fairness_BC_RW = evaluate(best_crit_model_RW[0], test, X_test, y_test)\n",
        "\n",
        "print(f\"BEST CRITERION MODEL (6): \\n[test accuracy: {test_accuracy_BC_RW}] \\n\"\n",
        "f\"[test equal opportunity: {test_fairness_BC_RW}]\")\n",
        "print(f\"[criterion: {best_crit_model_RW[1]}]\\n\"\n",
        "f\"[C: {best_crit_model_RW[-1]}]\\n\"\n",
        "f\"[F: {best_crit_model_RW[1]}]\")\n",
        "\n",
        "# print(f\" $Accuracy$ & {round(test_accuracy_BC, 3)} & {round(test_accuracy_BC_RW, 3)}\\\\ \\n\"\n",
        "# f\" $EOD$ & {round(test_fairness_BC, 3)} & {round(test_fairness_BC_RW, 3)}\\\\ \\n\"\n",
        "# f\" $C$ & {best_crit_model[-1]} & {best_crit_model_RW[-1]}\\\\ \\n\"\n",
        "# f\" $F$ & {round(best_crit_model[1], 3)} & {round(best_crit_model_RW[1],3)}\\\\\")\n"
      ],
      "metadata": {
        "colab": {
          "base_uri": "https://localhost:8080/"
        },
        "id": "RmJC3GJ_nVfM",
        "outputId": "725552e4-be48-4c63-d039-de1ec1e62ecf"
      },
      "execution_count": 17,
      "outputs": [
        {
          "output_type": "stream",
          "name": "stdout",
          "text": [
            "UNWEIGHED - CRITERION EVALUATION\n",
            "BEST CRITERION MODEL (5): \n",
            "[test accuracy: 0.7975841124684365] \n",
            "[test equal opportunity: -0.2189742958035641]\n",
            "[criterion: 0.7892180658202437]\n",
            "[C: 1e-05]\n",
            "[F: 0.7892180658202437]\n",
            "\n",
            "REWEIGHED - HYPERPARAMETER VARIATION\n",
            "BEST CRITERION MODEL (6): \n",
            "[test accuracy: 0.7905548351873336] \n",
            "[test equal opportunity: -0.03513180586351322]\n",
            "[criterion: 0.8690568637314617]\n",
            "[C: 0.0001]\n",
            "[F: 0.8690568637314617]\n"
          ]
        }
      ]
    },
    {
      "cell_type": "markdown",
      "source": [
        "## PART 4 - REMOVE FEATURE (SEX)\n",
        "\n"
      ],
      "metadata": {
        "id": "POLzxwdaMeQD"
      }
    },
    {
      "cell_type": "code",
      "source": [
        "X_train_copy = X_train.copy()\n",
        "X_train_ab = np.delete(X_train_copy, 1, 1)\n",
        "X_test_copy = X_test.copy()\n",
        "X_test_ab = np.delete(X_test_copy, 1, 1)\n",
        "print(X_train_ab.shape)\n",
        "\n",
        "print(\"UNWEIGHED - CRITERION EVALUATION\")\n",
        "best_accuracy_model, best_fair_model, \\\n",
        "best_crit_model, acc_array, fair_array, _ = hyperparameter_tuning(C_array, \n",
        "                                                               train, \n",
        "                                                               X_train_ab, \n",
        "                                                               y_train, \n",
        "                                                               5, \n",
        "                                                               None, \n",
        "                                                               test,\n",
        "                                                               X_test_ab, \n",
        "                                                               y_test,\n",
        "                                                               print_C=False)\n",
        "\n",
        "test_accuracy_BC, test_fairness_BC = evaluate(best_crit_model[0], test, X_test_ab, y_test)\n",
        "\n",
        "print(f\"\\nBEST CRITERION MODEL (5): \\n[test accuracy: {test_accuracy_BC}] \\n\"\n",
        "f\"[test equal opportunity: {test_fairness_BC}]\")\n",
        "print(f\"[criterion: {best_crit_model[1]}]\\n\"\n",
        "f\"[C: {best_crit_model[-1]}]\")\n",
        "\n",
        "plot(C_array, acc_array, fair_array)"
      ],
      "metadata": {
        "colab": {
          "base_uri": "https://localhost:8080/",
          "height": 426
        },
        "id": "9RzqV9Adf8Kz",
        "outputId": "9f7e17f6-bfeb-4dc3-fcac-0ad1cd1fdd0b"
      },
      "execution_count": 18,
      "outputs": [
        {
          "output_type": "stream",
          "name": "stdout",
          "text": [
            "(34189, 17)\n",
            "UNWEIGHED - CRITERION EVALUATION\n",
            "\n",
            "BEST CRITERION MODEL (5): \n",
            "[test accuracy: 0.7900088719033646] \n",
            "[test equal opportunity: -0.011328734499466198]\n",
            "[criterion: 0.8782456774733607]\n",
            "[C: 0.01]\n"
          ]
        },
        {
          "output_type": "display_data",
          "data": {
            "image/png": "[encoded data removed]",
            "text/plain": [
              "<Figure size 432x288 with 2 Axes>"
            ]
          },
          "metadata": {
            "needs_background": "light"
          }
        }
      ]
    },
    {
      "cell_type": "code",
      "source": [
        "print(\"\\nREWEIGHED - HYPERPARAMETER VARIATION\")\n",
        "# REWEIGHED\n",
        "best_accuracy_model, best_fair_model, \\\n",
        "best_crit_model_RW, acc_array_RW, fair_array_RW, _ = hyperparameter_tuning(C_array, \n",
        "                                                                        train, \n",
        "                                                                        X_train_ab, \n",
        "                                                                        y_train, \n",
        "                                                                        5, \n",
        "                                                                        weights, \n",
        "                                                                        test,\n",
        "                                                                        X_test_ab, \n",
        "                                                                        y_test,\n",
        "                                                                        print_C=False)\n",
        "\n",
        "test_accuracy_BC_RW, test_fairness_BC_RW = evaluate(best_crit_model_RW[0], test, X_test_ab, y_test)\n",
        "\n",
        "print(f\"\\nBEST CRITERION MODEL (6): \\n[test accuracy: {test_accuracy_BC_RW}] \\n\"\n",
        "f\"[test equal opportunity: {test_fairness_BC_RW}]\")\n",
        "print(f\"[criterion: {best_crit_model_RW[1]}]\\n\"\n",
        "f\"[C: {best_crit_model_RW[-1]}]\")\n",
        "\n",
        "plot(C_array, acc_array_RW, fair_array_RW)\n",
        "\n",
        "# print(f\" $Accuracy$ & {round(test_accuracy_BC, 3)} & {round(test_accuracy_BC_RW, 3)}\\\\ \\n\"\n",
        "# f\" $EOD$ & {round(test_fairness_BC, 3)} & {round(test_fairness_BC_RW, 3)}\\\\ \\n\"\n",
        "# f\" $C$ & {best_crit_model[-1]} & {best_crit_model_RW[-1]}\\\\\")"
      ],
      "metadata": {
        "colab": {
          "base_uri": "https://localhost:8080/",
          "height": 426
        },
        "id": "JPCdKcD1OOPu",
        "outputId": "03c7cc7a-d1e6-48c1-bfc1-51e95792dd6b"
      },
      "execution_count": 19,
      "outputs": [
        {
          "output_type": "stream",
          "name": "stdout",
          "text": [
            "\n",
            "REWEIGHED - HYPERPARAMETER VARIATION\n",
            "\n",
            "BEST CRITERION MODEL (6): \n",
            "[test accuracy: 0.7905548351873336] \n",
            "[test equal opportunity: -0.03513180586351322]\n",
            "[criterion: 0.8690568637314617]\n",
            "[C: 0.0001]\n"
          ]
        },
        {
          "output_type": "display_data",
          "data": {
            "image/png": "[encoded data removed]",
            "text/plain": [
              "<Figure size 432x288 with 2 Axes>"
            ]
          },
          "metadata": {
            "needs_background": "light"
          }
        }
      ]
    },
    {
      "cell_type": "code",
      "source": [
        ""
      ],
      "metadata": {
        "id": "Bk5SsIPzauJz"
      },
      "execution_count": null,
      "outputs": []
    }
  ]
}